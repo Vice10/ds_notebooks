{
  "nbformat": 4,
  "nbformat_minor": 0,
  "metadata": {
    "colab": {
      "name": "phatic_dialogue.ipynb",
      "provenance": [],
      "collapsed_sections": [],
      "authorship_tag": "ABX9TyMRjz67kagzObR3EIwXDxn+",
      "include_colab_link": true
    },
    "kernelspec": {
      "name": "python3",
      "display_name": "Python 3"
    },
    "language_info": {
      "name": "python"
    }
  },
  "cells": [
    {
      "cell_type": "markdown",
      "metadata": {
        "id": "view-in-github",
        "colab_type": "text"
      },
      "source": [
        "<a href=\"https://colab.research.google.com/github/Vice10/ds_notebooks/blob/main/phatic_dialogue.ipynb\" target=\"_parent\"><img src=\"https://colab.research.google.com/assets/colab-badge.svg\" alt=\"Open In Colab\"/></a>"
      ]
    },
    {
      "cell_type": "markdown",
      "source": [
        "### Prerequisites"
      ],
      "metadata": {
        "id": "X1kwxkEPu4Fg"
      }
    },
    {
      "cell_type": "code",
      "execution_count": 1,
      "metadata": {
        "id": "Rlx6D737tRmE",
        "colab": {
          "base_uri": "https://localhost:8080/"
        },
        "outputId": "31062028-33aa-41c9-d3e1-6f68b4d32ee8"
      },
      "outputs": [
        {
          "output_type": "stream",
          "name": "stdout",
          "text": [
            "Collecting en_core_web_sm==2.2.5\n",
            "  Downloading https://github.com/explosion/spacy-models/releases/download/en_core_web_sm-2.2.5/en_core_web_sm-2.2.5.tar.gz (12.0 MB)\n",
            "\u001b[K     |████████████████████████████████| 12.0 MB 5.3 MB/s \n",
            "\u001b[?25hRequirement already satisfied: spacy>=2.2.2 in /usr/local/lib/python3.7/dist-packages (from en_core_web_sm==2.2.5) (2.2.4)\n",
            "Requirement already satisfied: catalogue<1.1.0,>=0.0.7 in /usr/local/lib/python3.7/dist-packages (from spacy>=2.2.2->en_core_web_sm==2.2.5) (1.0.0)\n",
            "Requirement already satisfied: requests<3.0.0,>=2.13.0 in /usr/local/lib/python3.7/dist-packages (from spacy>=2.2.2->en_core_web_sm==2.2.5) (2.23.0)\n",
            "Requirement already satisfied: murmurhash<1.1.0,>=0.28.0 in /usr/local/lib/python3.7/dist-packages (from spacy>=2.2.2->en_core_web_sm==2.2.5) (1.0.6)\n",
            "Requirement already satisfied: tqdm<5.0.0,>=4.38.0 in /usr/local/lib/python3.7/dist-packages (from spacy>=2.2.2->en_core_web_sm==2.2.5) (4.63.0)\n",
            "Requirement already satisfied: blis<0.5.0,>=0.4.0 in /usr/local/lib/python3.7/dist-packages (from spacy>=2.2.2->en_core_web_sm==2.2.5) (0.4.1)\n",
            "Requirement already satisfied: wasabi<1.1.0,>=0.4.0 in /usr/local/lib/python3.7/dist-packages (from spacy>=2.2.2->en_core_web_sm==2.2.5) (0.9.0)\n",
            "Requirement already satisfied: thinc==7.4.0 in /usr/local/lib/python3.7/dist-packages (from spacy>=2.2.2->en_core_web_sm==2.2.5) (7.4.0)\n",
            "Requirement already satisfied: plac<1.2.0,>=0.9.6 in /usr/local/lib/python3.7/dist-packages (from spacy>=2.2.2->en_core_web_sm==2.2.5) (1.1.3)\n",
            "Requirement already satisfied: srsly<1.1.0,>=1.0.2 in /usr/local/lib/python3.7/dist-packages (from spacy>=2.2.2->en_core_web_sm==2.2.5) (1.0.5)\n",
            "Requirement already satisfied: numpy>=1.15.0 in /usr/local/lib/python3.7/dist-packages (from spacy>=2.2.2->en_core_web_sm==2.2.5) (1.21.5)\n",
            "Requirement already satisfied: cymem<2.1.0,>=2.0.2 in /usr/local/lib/python3.7/dist-packages (from spacy>=2.2.2->en_core_web_sm==2.2.5) (2.0.6)\n",
            "Requirement already satisfied: setuptools in /usr/local/lib/python3.7/dist-packages (from spacy>=2.2.2->en_core_web_sm==2.2.5) (57.4.0)\n",
            "Requirement already satisfied: preshed<3.1.0,>=3.0.2 in /usr/local/lib/python3.7/dist-packages (from spacy>=2.2.2->en_core_web_sm==2.2.5) (3.0.6)\n",
            "Requirement already satisfied: importlib-metadata>=0.20 in /usr/local/lib/python3.7/dist-packages (from catalogue<1.1.0,>=0.0.7->spacy>=2.2.2->en_core_web_sm==2.2.5) (4.11.3)\n",
            "Requirement already satisfied: zipp>=0.5 in /usr/local/lib/python3.7/dist-packages (from importlib-metadata>=0.20->catalogue<1.1.0,>=0.0.7->spacy>=2.2.2->en_core_web_sm==2.2.5) (3.7.0)\n",
            "Requirement already satisfied: typing-extensions>=3.6.4 in /usr/local/lib/python3.7/dist-packages (from importlib-metadata>=0.20->catalogue<1.1.0,>=0.0.7->spacy>=2.2.2->en_core_web_sm==2.2.5) (3.10.0.2)\n",
            "Requirement already satisfied: chardet<4,>=3.0.2 in /usr/local/lib/python3.7/dist-packages (from requests<3.0.0,>=2.13.0->spacy>=2.2.2->en_core_web_sm==2.2.5) (3.0.4)\n",
            "Requirement already satisfied: urllib3!=1.25.0,!=1.25.1,<1.26,>=1.21.1 in /usr/local/lib/python3.7/dist-packages (from requests<3.0.0,>=2.13.0->spacy>=2.2.2->en_core_web_sm==2.2.5) (1.24.3)\n",
            "Requirement already satisfied: idna<3,>=2.5 in /usr/local/lib/python3.7/dist-packages (from requests<3.0.0,>=2.13.0->spacy>=2.2.2->en_core_web_sm==2.2.5) (2.10)\n",
            "Requirement already satisfied: certifi>=2017.4.17 in /usr/local/lib/python3.7/dist-packages (from requests<3.0.0,>=2.13.0->spacy>=2.2.2->en_core_web_sm==2.2.5) (2021.10.8)\n",
            "\u001b[38;5;2m✔ Download and installation successful\u001b[0m\n",
            "You can now load the model via spacy.load('en_core_web_sm')\n"
          ]
        }
      ],
      "source": [
        "!python -m spacy download en_core_web_sm"
      ]
    },
    {
      "cell_type": "markdown",
      "source": [
        "### Imports"
      ],
      "metadata": {
        "id": "K3PpxZbmu99d"
      }
    },
    {
      "cell_type": "code",
      "source": [
        "import spacy\n",
        "from textblob import TextBlob\n",
        "import random"
      ],
      "metadata": {
        "id": "opT0ZHmXvAEf"
      },
      "execution_count": 2,
      "outputs": []
    },
    {
      "cell_type": "markdown",
      "source": [
        "### Global vars"
      ],
      "metadata": {
        "id": "ZTeg1NFkvAi8"
      }
    },
    {
      "cell_type": "code",
      "source": [
        "nlp = spacy.load(\"en_core_web_sm\")\n",
        "greet = [\"Hi!\", \"Whassup?\", \"Tsup!\",\"What’s cooking?\", \"What’s poppin’?\"]\n",
        "dummy_phrases = [\"Noooo\", \"What?\", \"How come?\" , \"Thaat's insane\", \"No way\", \"Makes zero fckn' sense\" , \"Go on\", \"You're not serious, right?\",  \"Pepsi or Coke?\"]"
      ],
      "metadata": {
        "id": "nDxRnO2svDxk"
      },
      "execution_count": 3,
      "outputs": []
    },
    {
      "cell_type": "markdown",
      "source": [
        "### Functions"
      ],
      "metadata": {
        "id": "whV6MLEkvEYM"
      }
    },
    {
      "cell_type": "code",
      "source": [
        "def get_ans():\n",
        "  ans = str(input(\"> \"))\n",
        "  return ans\n",
        "\n",
        "def get_nouns(article):\n",
        "  doc = nlp(article)\n",
        "  nouns = []\n",
        "  for token in doc:\n",
        "    if token.pos_ == \"PROPN\" or token.pos_ == \"NOUN\":\n",
        "      nouns.append(token.text)\n",
        "  return nouns\n",
        "\n",
        "def get_verb_lemmas(article):\n",
        "  doc = nlp(article)\n",
        "  verb_lemmas = []\n",
        "  for token in doc:\n",
        "    if token.pos_ == \"AUX\" or token.pos_ == \"VERB\":\n",
        "      verb_lemmas.append(token.lemma_)\n",
        "  return verb_lemmas\n",
        "\n",
        "def get_adjs_sentiments(article):\n",
        "  doc = nlp(article)\n",
        "  adjs_sents = []\n",
        "  for token in doc:\n",
        "    if token.pos_ == \"ADJ\":\n",
        "      adjs_sents.append({'text':token.text, 'sent':TextBlob(token.text).sentiment.polarity})\n",
        "  return adjs_sents\n",
        "\n",
        "def hamlet(verb):\n",
        "  return \"To \" + verb + \", or not to \" + verb + \", that is the question\"\n",
        "\n",
        "def reflect_adj(adj, sent):\n",
        "  mirror_phrases = [\"It seems that you feel \", \"It looks like you feel \", \"It appears like you feel \"]\n",
        "  if sent <= -0.5:\n",
        "    return random.choice(mirror_phrases) + \"embarrased\"\n",
        "  elif sent > -0.5 and sent <= 0:\n",
        "    return random.choice(mirror_phrases) + \"not ok\"\n",
        "  elif sent > 0 and sent <= 0.5:\n",
        "    return random.choice(mirror_phrases) + \"fine\"\n",
        "  elif sent > 0.5:\n",
        "    return random.choice(mirror_phrases) + \"awesome\"\n",
        "\n",
        "def reflect_noun(noun):\n",
        "  mirror_phrases = [\"... Interesting...\", \"? Hmm... \", \"? Really?\", \"? Doesn't sound right...\", ]\n",
        "  return noun.title() + random.choice(mirror_phrases)"
      ],
      "metadata": {
        "id": "qD3mcV2WvHLk"
      },
      "execution_count": 4,
      "outputs": []
    },
    {
      "cell_type": "markdown",
      "source": [
        "### Run"
      ],
      "metadata": {
        "id": "rYnJQObBvIJc"
      }
    },
    {
      "cell_type": "code",
      "source": [
        "def run():\n",
        "  print(random.choice(greet))\n",
        "  while True:\n",
        "    # part 1\n",
        "    inp = get_ans()\n",
        "    if inp == \"Bye\" or inp ==\"bye\":\n",
        "      print(\"Nice talking to you! Bye!\")\n",
        "      return\n",
        "    # part 2\n",
        "    nouns = get_nouns(inp)\n",
        "    verb_lemmas = get_verb_lemmas(inp)\n",
        "    adjs_sents = get_adjs_sentiments(inp)\n",
        "    response_candidates = []\n",
        "    # part 3\n",
        "    if nouns:\n",
        "      for noun in nouns:\n",
        "        response_candidates.append(reflect_noun(noun))\n",
        "    if verb_lemmas:\n",
        "      for vl in verb_lemmas:\n",
        "        response_candidates.append(hamlet(vl))\n",
        "    if adjs_sents:\n",
        "      for adjs in adjs_sents:\n",
        "        response_candidates.append(reflect_adj(adjs['text'], adjs['sent']))\n",
        "    # part 4\n",
        "    if not response_candidates:\n",
        "      for phrase in dummy_phrases:\n",
        "        response_candidates.append(phrase)\n",
        "    random.shuffle(response_candidates)\n",
        "    print(random.choice(response_candidates))\n",
        "  return\n",
        "\n",
        "if __name__ == \"__main__\":\n",
        "  run()"
      ],
      "metadata": {
        "colab": {
          "base_uri": "https://localhost:8080/"
        },
        "id": "QrarflP60bPq",
        "outputId": "2d2d93fa-f45b-4534-c923-79a4b6086020"
      },
      "execution_count": 8,
      "outputs": [
        {
          "output_type": "stream",
          "name": "stdout",
          "text": [
            "What’s poppin’?\n",
            "> Same old\n",
            "It appears like you feel not ok\n",
            "> You're kind of right\n",
            "To be, or not to be, that is the question\n",
            "> What day is it today?\n",
            "Day? Really?\n",
            "> Really\n",
            "Pepsi or Coke?\n",
            "> Wanna go outside\n",
            "To go, or not to go, that is the question\n",
            "> What?\n",
            "You're not serious, right?\n",
            "> Bye\n",
            "Nice talking to you! Bye!\n"
          ]
        }
      ]
    }
  ]
}